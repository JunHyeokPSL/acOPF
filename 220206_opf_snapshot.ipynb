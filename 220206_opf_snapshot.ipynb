{
 "cells": [
  {
   "cell_type": "markdown",
   "metadata": {},
   "source": [
    "# OPF_SOCP_ieee33bus\n",
    "\n",
    "\n",
    "---\n",
    "## Python Implementation\n",
    "\n",
    "We import the Gurobi Python Module and other Python libraries."
   ]
  },
  {
   "cell_type": "markdown",
   "metadata": {},
   "source": [
    "Add a theta constraints"
   ]
  },
  {
   "cell_type": "code",
   "execution_count": 1,
   "metadata": {},
   "outputs": [],
   "source": [
    "import pandas as pd\n",
    "import numpy as np\n",
    "import gurobipy as gp\n",
    "from gurobipy import GRB\n",
    "import math as math\n",
    "import time"
   ]
  },
  {
   "cell_type": "code",
   "execution_count": 2,
   "metadata": {},
   "outputs": [],
   "source": [
    "import NRpowerflow_0_13 as nr\n",
    "import matplotlib.pyplot as plt"
   ]
  },
  {
   "cell_type": "markdown",
   "metadata": {},
   "source": [
    "## Input Data\n",
    "We define all the input data of the model.\\\n",
    "\n",
    "### Generate Bus, Line, DER Data for inital state"
   ]
  },
  {
   "cell_type": "code",
   "execution_count": 3,
   "metadata": {},
   "outputs": [],
   "source": [
    "def Read_File():\n",
    "    Bus_file = [r'data/Bus_33.txt','Bus']\n",
    "    Line_file = [r'data/Line_33.txt','Line']\n",
    "    LoadProfile = [r\"data/Load_for_scheduling.txt\", 'LoadProfile']\n",
    "    PVProfile = [r\"data/PV_for_scheduling.txt\", 'PVProfile']\n",
    "\n",
    "    #Read Bus Data\n",
    "    [buses,generators,loads] = nr.Read_File(Bus_file)\n",
    "\n",
    "    #Read Line Data\n",
    "    branches = nr.Read_File(Line_file)\n",
    "\n",
    "    #Load Profile\n",
    "    loadprofiles = nr.Read_File(LoadProfile)\n",
    "\n",
    "    #PV Profile\n",
    "    pvprofiles = nr.Read_File(PVProfile)\n",
    "\n",
    "    #DER Profile\n",
    "    scale_factor = 70\n",
    "    # DER DATA\n",
    "    # DER unit: MW, MVA\n",
    "    #DER_Bus = np.array([[10],[15],[19],[22],[27],[34],[41],[61]])\n",
    "    DER_Bus = np.array([[10],[18],[19],[22],[25],[27],[31],[33]])\n",
    "    DER_Type = np.array([['ESS'],['PV'],['PV'],['ESS'],['PV'],['ESS'],['PV'],['PV']])\n",
    "    DER_Type = np.array([['PV'],['PV'],['PV'],['ESS'],['PV'],['PV'],['PV'],['PV']])\n",
    "    \n",
    "    DER_Company = np.array([[''],[''],[''],['HYOSUNG'],[''],[''],[''],['']])\n",
    "    DER_P = np.array([[20],[15],[10],[25],[15],[10],[15],[20]])/1000*scale_factor\n",
    "    #DER_P = np.array([[0],[0],[0],[0],[0],[0],[0],[0]])/1000\n",
    "    DER_Q = np.array([[0],[0],[0],[0],[0],[0],[0],[0]])/1000\n",
    "    DER_List = np.c_[DER_Bus,DER_Type, DER_Company, DER_P,DER_Q]\n",
    "    DER_List = np.array(DER_List, dtype=object)\n",
    "    ders = nr.DERmapping(DER_List)\n",
    "\n",
    "    # LOAD P/Q FOR EACH BUS\n",
    "    sets = [loads,generators,ders]\n",
    "    generator_factor = 1\n",
    "    load_factor = 2\n",
    "    factors = [generator_factor, load_factor]\n",
    "\n",
    "    # Parameters\n",
    "    # CONSTRUCT ADMITTANCE MATRIX\n",
    "    Ymat = nr.GenerateYmatrix(buses, branches)\n",
    "\n",
    "    busmatrix = nr.Generate_Busmatrix(buses, sets, factors, [1,1])\n",
    "    dermatrix = nr.Generate_DERmatrix(ders)\n",
    "  \n",
    "    return busmatrix, dermatrix, Ymat, branches, buses"
   ]
  },
  {
   "cell_type": "markdown",
   "metadata": {},
   "source": [
    "# Functions related to electrical grids"
   ]
  },
  {
   "cell_type": "code",
   "execution_count": 4,
   "metadata": {},
   "outputs": [],
   "source": [
    "def Adj_buses(i,branches,option):\n",
    "    #option = all, From, To\n",
    "    # if From -> only show the From nodes\n",
    "    # if To -> only show the To nodes\n",
    "    tbuses = []\n",
    "    ls = []\n",
    "    count = 1\n",
    "    for branch in branches:\n",
    "        if branch.J == i+1 and option is not 'To':\n",
    "            tbuses.append(branch.I -1)\n",
    "            ls.append(count)\n",
    "            count += 1\n",
    "        if branch.I == i+1 and option is not 'From':\n",
    "            tbuses.append(branch.J -1)\n",
    "            ls.append(count)\n",
    "            count += 1\n",
    "            \n",
    "    #return (tbuses,ls)   \n",
    "    return tbuses"
   ]
  },
  {
   "cell_type": "markdown",
   "metadata": {},
   "source": [
    "### Add Parameters:\n",
    "- $ N_b $: Number of buses\n",
    "- $ \\mathcal{B} $: Bus index where 1, ..., $ N_b $  \n",
    "- $ \\mathcal{G} \\hspace{0.2cm} \\subseteq N_b $ : Generator Index \n",
    "- $ \\mathcal{L} $: Line nonzero $(i,j)$ tuple $\\forall (i,j) \\in \\mathcal {B} $\n",
    "\n",
    "\n",
    "- $ V_{max} $ = maximum allowable Voltage in p.u.\n",
    "- $ V_{min} $ = minimum allowable Voltage in p.u.\n",
    "- $ bounds(PQ_{src}) = [ min(P_{src}), max(P_{src}), min(Q_{src}), max(Q_{src})]) $\n",
    "- $ bounds(PQ_{g}) = [ min(P_{g}^i), max(P_{g}^i), min(Q_{g}^i), max(Q_{g}^i)] \n",
    "\\hspace{0.2cm}  \\forall i \\in \\mathcal{G} $\n",
    "\n",
    "- $ G_{ij}, B_{ij}  = real(Y_{ij}), imag(Y_{ij}) \\hspace{0.2cm}  \\forall (i,j) \\in \\mathcal{L} $\n",
    "= Conductance and Susecptance matrix\n",
    "\n"
   ]
  },
  {
   "cell_type": "code",
   "execution_count": 5,
   "metadata": {},
   "outputs": [],
   "source": [
    "def add_Parameters(busmatrix, dermatrix):\n",
    "\n",
    "    Psrc_min = -15.0 #MW\n",
    "    Psrc_max = 15.0 \n",
    "    Qsrc_min = -15.0 #MVAR\n",
    "    Qsrc_max = 15.0\n",
    "    \n",
    "    PQsrc_bounds = [Psrc_min, Psrc_max,Qsrc_min, Qsrc_max]\n",
    "    \n",
    "    \n",
    "    Vmax = 1.1 #p.u.\n",
    "    Vmin = 0.9 #p.u.\n",
    "    \n",
    "    bus_index = busmatrix['BUS']-1\n",
    "    gen_index = dermatrix['BUS']-1\n",
    "    Pgen_max = dermatrix['PG']\n",
    "    Pgen_min = - dermatrix['QG']\n",
    "    Qgen_max = dermatrix['QG']\n",
    "    Qgen_min = -dermatrix['QG']\n",
    "    \n",
    "    PQgen_bounds = [Pgen_min, Pgen_max, Qgen_min, Qgen_max]\n",
    "    \n",
    "    return bus_index, gen_index, Vmax, Vmin, PQsrc_bounds, PQgen_bounds"
   ]
  },
  {
   "cell_type": "markdown",
   "metadata": {},
   "source": [
    "### Add Variables:\n",
    "\n",
    "- $P_{src} $: Source Power Output (active)\n",
    "- $Q_{src} $: Source Power Output (reactive)\n",
    "\n",
    "- $P_g^i \\hspace{0.2cm} \\forall i \\in \\mathcal{G}$: Generator Power Output (active)\n",
    "- $Q_g^i \\hspace{0.2cm} \\forall i \\in \\mathcal{G}$: Generator Power Output (reactive)\n",
    "\n",
    "- $P_{ij} \\hspace{0.2cm} \\forall (i,j) \\mathcal{L}$: Line Power (active) \n",
    "- $Q_{ij} \\hspace{0.2cm} \\forall (i,j) \\mathcal{L}$: Line Power (reactive)\n",
    "\n",
    "- $c_{ij} \\hspace{0.2cm} \\forall (i,j) \\in \\mathcal{L}$: \n",
    "- $s_{ij} \\hspace{0.2cm} \\forall (i,j) \\mathcal{L}$: "
   ]
  },
  {
   "cell_type": "code",
   "execution_count": 6,
   "metadata": {},
   "outputs": [],
   "source": [
    "def add_Variables(model,bus_index, gen_index, Vmax, Vmin, PQsrc_bounds, PQgen_bounds):\n",
    "    \n",
    "    PG = {}\n",
    "    QG = {}\n",
    "    cij = {}\n",
    "    sij = {}\n",
    "    Theta = {}\n",
    "    \n",
    "    Psrc = model.addVar(lb = PQsrc_bounds[0], ub=PQsrc_bounds[1],name='Psrc')\n",
    "    Qsrc = model.addVar(lb = PQsrc_bounds[2], ub=PQsrc_bounds[3],name='Qsrc')\n",
    "    \n",
    "    for i in range(len(gen_index)):\n",
    "        gen = gen_index[i]\n",
    "        PG[gen] = model.addVar(lb = PQgen_bounds[0][i], ub = PQgen_bounds[1][i],vtype=GRB.CONTINUOUS,  name = 'PG')\n",
    "        QG[gen] = model.addVar(lb = PQgen_bounds[2][i], ub = PQgen_bounds[3][i],vtype=GRB.CONTINUOUS,  name = 'QG')\n",
    "\n",
    "    for i in bus_index:\n",
    "        Theta[i] = model.addVar(lb = -np.pi, ub= np.pi, name = 'Theta')\n",
    "        for j in bus_index:  \n",
    "            cij[i,j] = model.addVar(lb = 0, ub = Vmax*Vmax, name = 'Cij')\n",
    "            sij[i,j] = model.addVar(lb = -GRB.INFINITY, name = 'Sij')    \n",
    "    \n",
    "    return Psrc, Qsrc, PG, QG, Theta, cij, sij"
   ]
  },
  {
   "cell_type": "markdown",
   "metadata": {},
   "source": [
    "### Add Constraints:\n",
    "\n",
    "- $P_{cal} = $: Source Power Output (active)\n",
    "- $Q_{cal} = $: Source Power Output (reactive)"
   ]
  },
  {
   "cell_type": "code",
   "execution_count": 7,
   "metadata": {},
   "outputs": [],
   "source": [
    "def Pcal(i, cij, sij, G, B, bus_index):\n",
    "    #a = C[i, i] * g[i, i]\n",
    "    Pcal = B[i, i] * sij[i, i] \n",
    "    for j in bus_index:\n",
    "        Pcal += G[i,j]*cij[i,j] - B[i,j]*sij[i,j]\n",
    "    return (Pcal)\n",
    "\n",
    "def Qcal(i,cij,sij, g, b, bus_index):\n",
    "    Qcal =  G[i, i] * sij[i, i]\n",
    "    for j in bus_index:\n",
    "        Qcal += - B[i,j]*cij[i,j] - G[i,j]*sij[i,j]\n",
    "    return (Qcal)"
   ]
  },
  {
   "cell_type": "code",
   "execution_count": 8,
   "metadata": {
    "code_folding": []
   },
   "outputs": [],
   "source": [
    "\n",
    "def add_PQbalance_Constraints(model,cij, sij, G, B, PG, QG, PL, QL, bus_index, gen_index):\n",
    "    \n",
    "    # index 0 is for slack\n",
    "    nongen_index = list(set(bus_index)-set(gen_index))[1:]\n",
    "    \n",
    "    Pgen_balance = model.addConstrs((Pcal(i, cij, sij, G, B, bus_index)== PG[i] - PL[i]) for i in gen_index)\n",
    "    Qgen_balance = model.addConstrs((Qcal(i, cij, sij, G, B, bus_index)== QG[i] - QL[i]) for i in gen_index)\n",
    "    \n",
    "    noPgen_balance = model.addConstrs((Pcal(i, cij, sij, G, B, bus_index)==  - PL[i]) for i in nongen_index)\n",
    "    noQgen_balance = model.addConstrs((Qcal(i, cij, sij, G, B, bus_index)==  - QL[i]) for i in nongen_index)\n",
    "    \n",
    "    return Pgen_balance, Qgen_balance, noPgen_balance, noQgen_balance    \n",
    "\n",
    "def add_C_S_Constraints(model, cij,sij, Vmax, Vmin, bus_index):\n",
    "    ClimInit = model.addConstr(cij[0,0]==1.0*1.0, name= 'ClimInit') # Slack Initial Voltage \n",
    "    #ClimUP = model.addConstrs((cij[i, i]<= Vmax*Vmax for i in bus_index),name='ClimUP')\n",
    "    #ClimLow = model.addConstrs((cij[i, i]>= Vmin*Vmin for i in bus_index),name='ClimLow') \n",
    "    Cconst = model.addConstrs((cij[i, j]== cij[j, i] for j in bus_index  for i in bus_index),name='C_Constrs')\n",
    "    Sconst = model.addConstrs((sij[i, j]== - sij[j, i] for j in bus_index  for i in bus_index),name='S_Constrs')\n",
    "    \n",
    "    for i in bus_index:\n",
    "        for j in bus_index:\n",
    "            CS_Q_const = model.addQConstr((cij[i, j]*cij[i, j]+sij[i, j]*sij[i, j])<=cij[i, i]*cij[j, j])\n",
    "    \n",
    "    return ClimInit, Cconst, Sconst, CS_Q_const\n",
    "\n",
    "def add_Theta_Constraints(model, Theta, cij,sij, bus_index):\n",
    "    \n",
    "    Thinit = model.addConstr(Theta[0] == 0)\n",
    "    \n",
    "    #Thconst = model.addConstrs((Theta[i]-Theta[j] == math.atan2(sij[i,j],cij[i,j]) \n",
    "    #                               for i in bus_index for j in Adj_buses(i,branches,'From')), name= 'Theta_const')\n",
    "    #Thconst = model.addConstrs((np))\n",
    "    Th = {}\n",
    "    Thc = {}\n",
    "    Thconst = {}\n",
    "    for i in bus_index:\n",
    "        for j in Adj_buses(i,branches,'From'):\n",
    "            Th[i,j]= model.addVar(name='Th')\n",
    "            z = model.addVar(lb=-GRB.INFINITY)\n",
    "            model.addConstr(z == Theta[i]-Theta[j])\n",
    "            Thc[i,j] = model.addGenConstrTan(z, Th[i,j])\n",
    "            zz = model.addVar(lb=-GRB.INFINITY)\n",
    "            \n",
    "            model.addQConstr(zz == cij[i,j]*Th[i,j])\n",
    "            Thconst[i,j] = model.addConstr(zz == sij[i,j])\n",
    "    return Th, Thc, Thinit, Thconst\n",
    "\n",
    "def add_Objectives(model,Psrc, cij,sij, G, B, bus_index):\n",
    "    #Psrc = - constrainp(0)\n",
    "    \n",
    "    Pcal_src = m.addConstr(Psrc == Pcal(0, cij, sij, G, B, bus_index), 'Pcal_src')\n",
    "    obj = 0.097*1000000 * Psrc* Psrc + 210 * 1000 * Psrc + 32000\n",
    "\n",
    "    #obj = gp.quicksum(0.097 * active_power_diat[diat]* active_power_diat[diat] + 210 * active_power_diat[diat]\n",
    "#                         + 32000 for diat in generate_ac_diat)\n",
    "    return Pcal_src, obj"
   ]
  },
  {
   "cell_type": "code",
   "execution_count": 9,
   "metadata": {},
   "outputs": [
    {
     "name": "stdout",
     "output_type": "stream",
     "text": [
      "Academic license - for non-commercial use only - expires 2022-03-25\n",
      "Using license file C:\\Users\\user\\gurobi.lic\n"
     ]
    }
   ],
   "source": [
    "m = gp.Model('SOCP_OPF')\n",
    "busmatrix, dermatrix, Ymat, branches, buses = Read_File()\n",
    "bus_index, gen_index, Vmax, Vmin, PQsrc_bounds, PQgen_bounds = add_Parameters(busmatrix,dermatrix)\n",
    "Psrc, Qsrc, PG, QG, Theta, cij, sij = add_Variables(m,bus_index, gen_index, Vmax, Vmin, PQsrc_bounds, PQgen_bounds)\n",
    "\n",
    "PL,QL = busmatrix['PL'], busmatrix['QL'] \n",
    "G,B = np.real(Ymat), np.imag(Ymat)\n",
    "PG_bal, QG_bal, noPG_bal, noQG_bal = add_PQbalance_Constraints(m,cij, sij, G, B, PG, QG, PL, QL, bus_index, gen_index)\n",
    "ClimInit, Cconst, Sconst, CS_Q_const = add_C_S_Constraints(m, cij,sij, Vmax, Vmin, bus_index) \n",
    "Pcal_src, obj = add_Objectives(m,Psrc, cij,sij, G, B, bus_index)\n",
    "#Th, Thc, Thinit, Thconst = add_Theta_Constraints(m, Theta, cij,sij, bus_index)"
   ]
  },
  {
   "cell_type": "code",
   "execution_count": 10,
   "metadata": {},
   "outputs": [
    {
     "name": "stdout",
     "output_type": "stream",
     "text": [
      "Gurobi Optimizer version 9.1.2 build v9.1.2rc0 (win64)\n",
      "Thread count: 8 physical cores, 16 logical processors, using up to 16 threads\n",
      "Optimize a model with 2244 rows, 2229 columns and 4594 nonzeros\n",
      "Model fingerprint: 0x01804223\n",
      "Model has 1 quadratic objective term\n",
      "Model has 1089 quadratic constraints\n",
      "Coefficient statistics:\n",
      "  Matrix range     [1e+00, 2e+03]\n",
      "  QMatrix range    [1e+00, 1e+00]\n",
      "  Objective range  [2e+05, 2e+05]\n",
      "  QObjective range [2e+05, 2e+05]\n",
      "  Bounds range     [7e-01, 2e+01]\n",
      "  RHS range        [2e-02, 1e+00]\n",
      "Presolve removed 1123 rows and 76 columns\n",
      "Presolve time: 0.01s\n",
      "Presolved: 5348 rows, 4267 columns, 10763 nonzeros\n",
      "Presolved model has 1057 second-order cone constraints\n",
      "Ordering time: 0.00s\n",
      "\n",
      "Barrier statistics:\n",
      " Dense cols : 32\n",
      " AA' NZ     : 2.021e+04\n",
      " Factor NZ  : 4.224e+04 (roughly 4 MBytes of memory)\n",
      " Factor Ops : 3.959e+05 (less than 1 second per iteration)\n",
      " Threads    : 1\n",
      "\n",
      "                  Objective                Residual\n",
      "Iter       Primal          Dual         Primal    Dual     Compl     Time\n",
      "   0   3.20000058e+04  7.18607819e+03  4.86e+00 7.00e+02  1.76e+03     0s\n",
      "   1   3.11242456e+04 -3.76072459e+05  1.33e+00 2.59e+02  6.18e+02     0s\n",
      "   2   3.03463501e+04 -3.12521057e+05  9.37e-01 6.25e+01  2.09e+02     0s\n",
      "   3   3.00346098e+04 -2.00246700e+05  2.32e-01 3.88e+01  1.03e+02     0s\n",
      "   4   2.63237748e+04 -9.79460526e+04  1.04e-01 1.84e+01  4.88e+01     0s\n",
      "   5   1.97935778e+04 -4.04937617e+04  4.74e-02 7.54e+00  2.14e+01     0s\n",
      "   6   1.25978248e+04 -2.73045435e+04  1.40e-02 4.78e+00  1.40e+01     0s\n",
      "   7   5.22494484e+03 -2.93717513e+04  1.02e-02 2.38e+00  9.69e+00     0s\n",
      "   8  -3.11449489e+04 -4.02656495e+04  2.63e-03 9.19e-01  4.72e+00     0s\n",
      "   9  -5.72581236e+04 -7.11912572e+04  1.10e-03 1.83e-01  3.54e+00     0s\n",
      "  10  -6.55553490e+04 -7.73015571e+04  6.63e-04 5.23e-02  2.35e+00     0s\n",
      "  11  -8.00839614e+04 -8.26441270e+04  2.06e-04 1.80e-02  7.98e-01     0s\n",
      "  12  -8.09117010e+04 -8.16416194e+04  8.20e-05 1.27e-03  1.27e-01     0s\n",
      "  13  -8.16583024e+04 -8.16614463e+04  4.51e-10 1.41e-04  5.25e-04     0s\n",
      "  14  -8.16597898e+04 -8.16597962e+04  1.46e-11 9.38e-07  1.12e-06     0s\n",
      "  15  -8.16597936e+04 -8.16597961e+04  3.20e-10 7.50e-04  5.09e-07     0s\n",
      "  16  -8.16597941e+04 -8.16597961e+04  2.82e-09 1.09e-03  4.83e-07     0s\n",
      "  17  -8.16601267e+04 -8.16597960e+04  2.93e-06 1.65e-03  4.80e-07     0s\n",
      "  18  -8.16600854e+04 -8.16597960e+04  2.57e-06 7.30e-04  4.79e-07     0s\n",
      "  19  -8.16597880e+04 -8.16597960e+04  5.07e-08 5.86e-05  4.79e-07     0s\n",
      "\n",
      "Barrier solved model in 19 iterations and 0.11 seconds\n",
      "Optimal objective -8.16597880e+04\n",
      "\n"
     ]
    }
   ],
   "source": [
    "m.setObjective(obj, GRB.MINIMIZE)\n",
    "startop = time.time()\n",
    "m.optimize()\n",
    "endop = time.time()"
   ]
  },
  {
   "cell_type": "code",
   "execution_count": 11,
   "metadata": {},
   "outputs": [],
   "source": [
    "def Pcaltest(i, cij, sij, G, B, bus_index):\n",
    "    #a = C[i, i] * g[i, i]\n",
    "    Pcal = B[i, i] * sij[i, i].x \n",
    "    for j in bus_index:\n",
    "        Pcal += G[i,j]*cij[i,j].x - B[i,j]*sij[i,j].x\n",
    "    return (Pcal)\n",
    "\n",
    "def Qcaltest(i,cij,sij, g, b, bus_index):\n",
    "    Qcal =  G[i, i] * sij[i, i]\n",
    "    for j in bus_index:\n",
    "        Qcal += -B[i,j]*cij[i,j].x - G[i,j]*sij[i,j].x\n",
    "    return (Qcal)"
   ]
  },
  {
   "cell_type": "code",
   "execution_count": 12,
   "metadata": {},
   "outputs": [],
   "source": [
    "Vopf = np.zeros(len(bus_index))\n",
    "for i in bus_index:\n",
    "    for j in  bus_index:\n",
    "        if i ==j:\n",
    "            Vopf[i] = np.sqrt(cij[i,j].x)\n",
    "\n",
    "Thopf = np.zeros(len(busmatrix))\n",
    "Thopf[0] = 0\n",
    "\n",
    "for i in bus_index:\n",
    "    for j in Adj_buses(i,branches,'From'):\n",
    "        Thopf[i] = Thopf[j] - math.atan2(sij[i,j].x, cij[i,j].x)\n",
    "          "
   ]
  },
  {
   "cell_type": "code",
   "execution_count": 22,
   "metadata": {},
   "outputs": [
    {
     "name": "stdout",
     "output_type": "stream",
     "text": [
      "****************************\n",
      "IEEE 33 BUS NETWORK\n",
      "Total Loads: [7.43, 4.6] [MW, MVAR]\n",
      "Total DERs:  [9.1] MW\n",
      "Total Time (nn):  [0.10572695732116699] [s]\n",
      "Total Time: (opf) [0.11728954315185547] [s]\n",
      "****************************\n",
      "\n"
     ]
    },
    {
     "data": {
      "image/png": "[encoded data removed]",
      "text/plain": [
       "<Figure size 432x288 with 1 Axes>"
      ]
     },
     "metadata": {
      "needs_background": "light"
     },
     "output_type": "display_data"
    },
    {
     "data": {
      "image/png": "[encoded data removed]",
      "text/plain": [
       "<Figure size 432x288 with 1 Axes>"
      ]
     },
     "metadata": {
      "needs_background": "light"
     },
     "output_type": "display_data"
    },
    {
     "data": {
      "image/png": "[encoded data removed]",
      "text/plain": [
       "<Figure size 432x288 with 1 Axes>"
      ]
     },
     "metadata": {
      "needs_background": "light"
     },
     "output_type": "display_data"
    },
    {
     "data": {
      "image/png": "[encoded data removed]",
      "text/plain": [
       "<Figure size 432x288 with 1 Axes>"
      ]
     },
     "metadata": {
      "needs_background": "light"
     },
     "output_type": "display_data"
    }
   ],
   "source": [
    "# REARRANGE BUS : slack -> PQ -> PV\n",
    "# COUNT Slack, PV and PQ BUS\n",
    "#Read Bus Data\n",
    "[orderedbuses,NumBus] = nr.Rearrange_bus(buses)\n",
    "Pbus = busmatrix['PG'] - busmatrix['PL'] \n",
    "Qbus = busmatrix['QG'] - busmatrix['QL'] \n",
    "\n",
    "Bus_file = [r'data/Bus_33.txt','Bus']\n",
    "Line_file = [r'data/Line_33.txt','Line']\n",
    "LoadProfile = [r\"data/Load_for_scheduling.txt\", 'LoadProfile']\n",
    "PVProfile = [r\"data/PV_for_scheduling.txt\", 'PVProfile']\n",
    "\n",
    "#Read Bus Data\n",
    "[buses,generators,loads] = nr.Read_File(Bus_file)\n",
    "DER_Bus = np.array([[10],[18],[19],[22],[25],[27],[31],[33]])\n",
    "DER_Type = np.array([['ESS'],['PV'],['PV'],['ESS'],['PV'],['ESS'],['PV'],['PV']])\n",
    "DER_Type = np.array([['PV'],['PV'],['PV'],['ESS'],['PV'],['PV'],['PV'],['PV']])\n",
    "\n",
    "DER_Company = np.array([[''],[''],[''],['HYOSUNG'],[''],[''],[''],['']])\n",
    "x = 0\n",
    "DER_P = np.zeros(len(PG))\n",
    "for gen in PG:\n",
    "    DER_P[x] = PG[gen].x\n",
    "    x += 1\n",
    "    #DER_P = np.array([[0],[0],[0],[0],[0],[0],[0],[0]])/1000\n",
    "DER_Q = np.array([[0],[0],[0],[0],[0],[0],[0],[0]])/1000\n",
    "DER_List = np.c_[DER_Bus,DER_Type, DER_Company, DER_P,DER_Q]\n",
    "DER_List = np.array(DER_List, dtype=object)\n",
    "dersx = nr.DERmapping(DER_List)\n",
    "\n",
    "# LOAD P/Q FOR EACH BUS\n",
    "setsx = [loads,generators,dersx]\n",
    "generator_factor = 1\n",
    "load_factor = 2\n",
    "factors = [generator_factor, load_factor]\n",
    "\n",
    "# Parameters\n",
    "# CONSTRUCT ADMITTANCE MATRIX\n",
    "Ymat = nr.GenerateYmatrix(buses, branches)\n",
    "\n",
    "busmatrixx = nr.Generate_Busmatrix(buses, setsx, factors, [1,1])\n",
    "dermatrixx = nr.Generate_DERmatrix(dersx)\n",
    "[orderedbusesx,NumBus] = nr.Rearrange_bus(buses)\n",
    "Pbusx = busmatrixx['PG'] - busmatrixx['PL'] \n",
    "Qbusx = busmatrixx['QG'] - busmatrixx['QL'] \n",
    "[Vx, Thetax, Jx] = nr.SolvePowerFlow(orderedbusesx, [Pbusx, Qbusx], Ymat, NumBus)\n",
    "\n",
    "\n",
    "\n",
    "\n",
    "startnn = time.time()\n",
    "[V, Theta, J] = nr.SolvePowerFlow(orderedbuses, [Pbus, Qbus], Ymat, NumBus)\n",
    "endnn = time.time()    \n",
    "sumPL = np.round(np.sum(busmatrix['PL']),2)\n",
    "sumQL = np.round(np.sum(busmatrix['QL']),2)\n",
    "sum_Pder = np.round(np.sum(busmatrix['PG']),2)\n",
    "\n",
    "# PRINT THE BRIEF lOADS AND DERS DATA\n",
    "print(\"****************************\")\n",
    "print(\"IEEE 33 BUS NETWORK\")\n",
    "print(\"Total Loads:\", [sumPL, sumQL], \"[MW, MVAR]\")\n",
    "print(\"Total DERs: \", [sum_Pder], \"MW\")\n",
    "print(\"Total Time (nn): \", [endnn - startnn], \"[s]\")\n",
    "print(\"Total Time: (opf)\", [endop - startop], \"[s]\")\n",
    "\n",
    "print(\"****************************\")\n",
    "print(\"\") \n",
    "\n",
    "# Plot the Voltage Profile\n",
    "plt.plot(busmatrix['BUS'],V, label='Vnn [p.u.]', linewidth=2.5, color = '#ff7f0e')\n",
    "plt.plot(busmatrix['BUS'],Vopf, label='Vopf [p.u.]', linewidth=1, color = 'blue')\n",
    "plt.ylabel('Voltage [p.u.]', fontsize=13)\n",
    "plt.xlabel('Bus', fontsize=13)\n",
    "plt.xticks(fontsize=12)\n",
    "plt.yticks(fontsize=12)\n",
    "plt.xlim(busmatrix['BUS'][0],busmatrix['BUS'][len(V)-1])\n",
    "plt.ylim(min(V)-0.01,max(V)+0.01)\n",
    "plt.title('Voltage Profile of 33 Bus Distribution Network', fontsize=13)\n",
    "plt.legend(fontsize=10)\n",
    "plt.grid(linestyle='--', linewidth=0.5)\n",
    "plt.show() \n",
    "\n",
    "plt.plot(busmatrix['BUS'],np.subtract(V,Vopf), label='Vnn - Vopf [p.u.]', linewidth=1, color = 'red')\n",
    "plt.ylabel('Voltage Error [p.u.]', fontsize=13)\n",
    "plt.xlabel('Bus', fontsize=13)\n",
    "plt.xticks(fontsize=12)\n",
    "plt.yticks(fontsize=12)\n",
    "plt.xlim(busmatrix['BUS'][0],busmatrix['BUS'][len(V)-1])\n",
    "plt.title('Voltage Error Profile between NN and OPF', fontsize=13)\n",
    "plt.legend(fontsize=10)\n",
    "plt.grid(linestyle='--', linewidth=0.5)\n",
    "plt.show()\n",
    "\n",
    "# Plot the Voltage Angle Profile\n",
    "plt.plot(busmatrix['BUS'],Theta, label='Thnn [p.u.]', linewidth=2.5, color = '#ff7f0e')\n",
    "plt.plot(busmatrix['BUS'],Thopf, label='Thopf [p.u.]', linewidth=1, color = 'blue')\n",
    "plt.ylabel('Theta [p.u.]', fontsize=13)\n",
    "plt.xlabel('Bus', fontsize=13)\n",
    "plt.xticks(fontsize=12)\n",
    "plt.yticks(fontsize=12)\n",
    "plt.xlim(busmatrix['BUS'][0],busmatrix['BUS'][len(V)-1])\n",
    "plt.ylim(min(Theta)-0.01,max(Theta)+0.01)\n",
    "plt.title('Voltage Angle Profile of 33 Bus Distribution Network', fontsize=13)\n",
    "plt.legend(fontsize=10)\n",
    "plt.grid(linestyle='--', linewidth=0.5)\n",
    "plt.show() \n",
    "\n",
    "plt.plot(busmatrix['BUS'],np.subtract(Theta,Thopf), label='Theta-Thopf [p.u.]', linewidth=1, color = 'red')\n",
    "plt.ylabel('Voltage Angle Error [p.u.]', fontsize=13)\n",
    "plt.xlabel('Bus', fontsize=13)\n",
    "plt.xticks(fontsize=12)\n",
    "plt.yticks(fontsize=12)\n",
    "plt.xlim(busmatrix['BUS'][0],busmatrix['BUS'][len(V)-1])\n",
    "plt.title('Voltage Angle Error Profile between NN and OPF', fontsize=13)\n",
    "plt.legend(fontsize=10)\n",
    "plt.grid(linestyle='--', linewidth=0.5)\n",
    "plt.show()\n",
    "\n",
    "\n"
   ]
  },
  {
   "cell_type": "code",
   "execution_count": 17,
   "metadata": {},
   "outputs": [],
   "source": [
    "CK = {}\n",
    "for i in bus_index:\n",
    "    for j in bus_index:\n",
    "        if i == j:\n",
    "            CK[i] = np.sqrt(cij[i,j].x)"
   ]
  },
  {
   "cell_type": "code",
   "execution_count": 15,
   "metadata": {},
   "outputs": [
    {
     "name": "stdout",
     "output_type": "stream",
     "text": [
      "[[ 6.40739128e-11]\n",
      " [ 2.87275204e-11]\n",
      " [ 2.54885002e-12]\n",
      " [-7.43516360e-13]\n",
      " [ 8.06721356e-12]\n",
      " [-1.99518180e-12]\n",
      " [-4.24049684e-12]\n",
      " [-6.29829522e-13]\n",
      " [-9.23455479e-11]\n",
      " [ 1.14652732e-12]\n",
      " [ 1.98496775e-12]\n",
      " [-5.52291546e-12]\n",
      " [ 1.65653047e-11]\n",
      " [ 8.99802455e-12]\n",
      " [ 1.01988418e-11]\n",
      " [-6.20276053e-12]\n",
      " [-1.07264198e-12]\n",
      " [ 2.58711386e-11]\n",
      " [-3.01614289e-12]\n",
      " [ 4.55270266e-11]\n",
      " [ 1.80022663e-12]\n",
      " [-1.60389479e-11]\n",
      " [-1.92187377e-11]\n",
      " [-1.22941102e-11]]\n"
     ]
    }
   ],
   "source": [
    "nongen_index = list(set(bus_index)-set(gen_index))[1:]\n",
    "Pbalance = np.zeros((len(nongen_index),1))\n",
    "x = 0\n",
    "for i in nongen_index:\n",
    "    \n",
    "    Pbalance[x] = float(Pcaltest(i, cij, sij, G, B, bus_index) + PL[i]) \n",
    "    x += 1\n",
    "print(Pbalance)"
   ]
  },
  {
   "cell_type": "code",
   "execution_count": 16,
   "metadata": {},
   "outputs": [],
   "source": [
    "i = 0\n",
    "Pcal = B[i, i] * sij[i, i].x \n",
    "for j in bus_index:\n",
    "    c = G[i,j]*cij[i,j].x \n",
    "    s = - B[i,j]*sij[i,j].x"
   ]
  },
  {
   "cell_type": "code",
   "execution_count": null,
   "metadata": {},
   "outputs": [],
   "source": []
  },
  {
   "cell_type": "code",
   "execution_count": 17,
   "metadata": {
    "scrolled": false
   },
   "outputs": [
    {
     "data": {
      "text/html": [
       "<div>\n",
       "<style scoped>\n",
       "    .dataframe tbody tr th:only-of-type {\n",
       "        vertical-align: middle;\n",
       "    }\n",
       "\n",
       "    .dataframe tbody tr th {\n",
       "        vertical-align: top;\n",
       "    }\n",
       "\n",
       "    .dataframe thead th {\n",
       "        text-align: right;\n",
       "    }\n",
       "</style>\n",
       "<table border=\"1\" class=\"dataframe\">\n",
       "  <thead>\n",
       "    <tr style=\"text-align: right;\">\n",
       "      <th></th>\n",
       "      <th>BUS</th>\n",
       "      <th>TYPE</th>\n",
       "      <th>COMPANY</th>\n",
       "      <th>PG</th>\n",
       "      <th>QG</th>\n",
       "    </tr>\n",
       "  </thead>\n",
       "  <tbody>\n",
       "    <tr>\n",
       "      <td>0</td>\n",
       "      <td>10</td>\n",
       "      <td>PV</td>\n",
       "      <td></td>\n",
       "      <td>1.4</td>\n",
       "      <td>0</td>\n",
       "    </tr>\n",
       "    <tr>\n",
       "      <td>1</td>\n",
       "      <td>18</td>\n",
       "      <td>PV</td>\n",
       "      <td></td>\n",
       "      <td>1.05</td>\n",
       "      <td>0</td>\n",
       "    </tr>\n",
       "    <tr>\n",
       "      <td>2</td>\n",
       "      <td>19</td>\n",
       "      <td>PV</td>\n",
       "      <td></td>\n",
       "      <td>0.7</td>\n",
       "      <td>0</td>\n",
       "    </tr>\n",
       "    <tr>\n",
       "      <td>3</td>\n",
       "      <td>22</td>\n",
       "      <td>ESS</td>\n",
       "      <td>HYOSUNG</td>\n",
       "      <td>1.75</td>\n",
       "      <td>0</td>\n",
       "    </tr>\n",
       "    <tr>\n",
       "      <td>4</td>\n",
       "      <td>25</td>\n",
       "      <td>PV</td>\n",
       "      <td></td>\n",
       "      <td>1.05</td>\n",
       "      <td>0</td>\n",
       "    </tr>\n",
       "    <tr>\n",
       "      <td>5</td>\n",
       "      <td>27</td>\n",
       "      <td>PV</td>\n",
       "      <td></td>\n",
       "      <td>0.7</td>\n",
       "      <td>0</td>\n",
       "    </tr>\n",
       "    <tr>\n",
       "      <td>6</td>\n",
       "      <td>31</td>\n",
       "      <td>PV</td>\n",
       "      <td></td>\n",
       "      <td>1.05</td>\n",
       "      <td>0</td>\n",
       "    </tr>\n",
       "    <tr>\n",
       "      <td>7</td>\n",
       "      <td>33</td>\n",
       "      <td>PV</td>\n",
       "      <td></td>\n",
       "      <td>1.4</td>\n",
       "      <td>0</td>\n",
       "    </tr>\n",
       "  </tbody>\n",
       "</table>\n",
       "</div>"
      ],
      "text/plain": [
       "  BUS TYPE  COMPANY    PG QG\n",
       "0  10   PV            1.4  0\n",
       "1  18   PV           1.05  0\n",
       "2  19   PV            0.7  0\n",
       "3  22  ESS  HYOSUNG  1.75  0\n",
       "4  25   PV           1.05  0\n",
       "5  27   PV            0.7  0\n",
       "6  31   PV           1.05  0\n",
       "7  33   PV            1.4  0"
      ]
     },
     "execution_count": 17,
     "metadata": {},
     "output_type": "execute_result"
    }
   ],
   "source": [
    "dermatrix"
   ]
  },
  {
   "cell_type": "code",
   "execution_count": 18,
   "metadata": {},
   "outputs": [
    {
     "data": {
      "text/plain": [
       "{9: <gurobi.Var PG (value 1.3969790360875045)>,\n",
       " 17: <gurobi.Var PG (value 1.0480985823085056)>,\n",
       " 18: <gurobi.Var PG (value 0.6985442778027625)>,\n",
       " 21: <gurobi.Var PG (value 1.7473292173863053)>,\n",
       " 24: <gurobi.Var PG (value 1.0473931840116832)>,\n",
       " 26: <gurobi.Var PG (value 0.6972955901530667)>,\n",
       " 30: <gurobi.Var PG (value 1.0465135737761246)>,\n",
       " 32: <gurobi.Var PG (value 1.3972080368172344)>}"
      ]
     },
     "execution_count": 18,
     "metadata": {},
     "output_type": "execute_result"
    }
   ],
   "source": [
    "PG"
   ]
  },
  {
   "cell_type": "code",
   "execution_count": 21,
   "metadata": {},
   "outputs": [
    {
     "data": {
      "text/html": [
       "<div>\n",
       "<style scoped>\n",
       "    .dataframe tbody tr th:only-of-type {\n",
       "        vertical-align: middle;\n",
       "    }\n",
       "\n",
       "    .dataframe tbody tr th {\n",
       "        vertical-align: top;\n",
       "    }\n",
       "\n",
       "    .dataframe thead th {\n",
       "        text-align: right;\n",
       "    }\n",
       "</style>\n",
       "<table border=\"1\" class=\"dataframe\">\n",
       "  <thead>\n",
       "    <tr style=\"text-align: right;\">\n",
       "      <th></th>\n",
       "      <th>BUS</th>\n",
       "      <th>TYPE</th>\n",
       "      <th>COMPANY</th>\n",
       "      <th>PG</th>\n",
       "      <th>QG</th>\n",
       "    </tr>\n",
       "  </thead>\n",
       "  <tbody>\n",
       "    <tr>\n",
       "      <td>0</td>\n",
       "      <td>10</td>\n",
       "      <td>PV</td>\n",
       "      <td></td>\n",
       "      <td>1.39698</td>\n",
       "      <td>0</td>\n",
       "    </tr>\n",
       "    <tr>\n",
       "      <td>1</td>\n",
       "      <td>18</td>\n",
       "      <td>PV</td>\n",
       "      <td></td>\n",
       "      <td>1.0481</td>\n",
       "      <td>0</td>\n",
       "    </tr>\n",
       "    <tr>\n",
       "      <td>2</td>\n",
       "      <td>19</td>\n",
       "      <td>PV</td>\n",
       "      <td></td>\n",
       "      <td>0.698544</td>\n",
       "      <td>0</td>\n",
       "    </tr>\n",
       "    <tr>\n",
       "      <td>3</td>\n",
       "      <td>22</td>\n",
       "      <td>ESS</td>\n",
       "      <td>HYOSUNG</td>\n",
       "      <td>1.74733</td>\n",
       "      <td>0</td>\n",
       "    </tr>\n",
       "    <tr>\n",
       "      <td>4</td>\n",
       "      <td>25</td>\n",
       "      <td>PV</td>\n",
       "      <td></td>\n",
       "      <td>1.04739</td>\n",
       "      <td>0</td>\n",
       "    </tr>\n",
       "    <tr>\n",
       "      <td>5</td>\n",
       "      <td>27</td>\n",
       "      <td>PV</td>\n",
       "      <td></td>\n",
       "      <td>0.697296</td>\n",
       "      <td>0</td>\n",
       "    </tr>\n",
       "    <tr>\n",
       "      <td>6</td>\n",
       "      <td>31</td>\n",
       "      <td>PV</td>\n",
       "      <td></td>\n",
       "      <td>1.04651</td>\n",
       "      <td>0</td>\n",
       "    </tr>\n",
       "    <tr>\n",
       "      <td>7</td>\n",
       "      <td>33</td>\n",
       "      <td>PV</td>\n",
       "      <td></td>\n",
       "      <td>1.39721</td>\n",
       "      <td>0</td>\n",
       "    </tr>\n",
       "  </tbody>\n",
       "</table>\n",
       "</div>"
      ],
      "text/plain": [
       "  BUS TYPE  COMPANY        PG QG\n",
       "0  10   PV            1.39698  0\n",
       "1  18   PV             1.0481  0\n",
       "2  19   PV           0.698544  0\n",
       "3  22  ESS  HYOSUNG   1.74733  0\n",
       "4  25   PV            1.04739  0\n",
       "5  27   PV           0.697296  0\n",
       "6  31   PV            1.04651  0\n",
       "7  33   PV            1.39721  0"
      ]
     },
     "execution_count": 21,
     "metadata": {},
     "output_type": "execute_result"
    }
   ],
   "source": [
    "dermatrixx"
   ]
  },
  {
   "cell_type": "code",
   "execution_count": 21,
   "metadata": {},
   "outputs": [],
   "source": [
    "[V, Theta, J] = nr.SolvePowerFlow(orderedbuses, [Pbus, Qbus], Ymat, NumBus)"
   ]
  },
  {
   "cell_type": "code",
   "execution_count": 22,
   "metadata": {},
   "outputs": [
    {
     "data": {
      "text/plain": [
       "array([1.        , 1.00129313, 1.00440031, 1.00768203, 1.01152286,\n",
       "       1.01750543, 1.0165397 , 1.02098994, 1.0281077 , 1.03588199,\n",
       "       1.03615578, 1.03679234, 1.03909191, 1.03992065, 1.04178112,\n",
       "       1.04450844, 1.04951614, 1.05286008, 1.00263239, 1.01215762,\n",
       "       1.01502871, 1.02060494, 1.00336577, 1.0017662 , 1.00340322,\n",
       "       1.01896634, 1.02114596, 1.02374213, 1.0262561 , 1.02937459,\n",
       "       1.03777626, 1.03917243, 1.04134922])"
      ]
     },
     "execution_count": 22,
     "metadata": {},
     "output_type": "execute_result"
    }
   ],
   "source": [
    "V"
   ]
  },
  {
   "cell_type": "code",
   "execution_count": 23,
   "metadata": {},
   "outputs": [
    {
     "data": {
      "text/html": [
       "<div>\n",
       "<style scoped>\n",
       "    .dataframe tbody tr th:only-of-type {\n",
       "        vertical-align: middle;\n",
       "    }\n",
       "\n",
       "    .dataframe tbody tr th {\n",
       "        vertical-align: top;\n",
       "    }\n",
       "\n",
       "    .dataframe thead th {\n",
       "        text-align: right;\n",
       "    }\n",
       "</style>\n",
       "<table border=\"1\" class=\"dataframe\">\n",
       "  <thead>\n",
       "    <tr style=\"text-align: right;\">\n",
       "      <th></th>\n",
       "      <th>BUS</th>\n",
       "      <th>TYPE</th>\n",
       "      <th>COMPANY</th>\n",
       "      <th>PG</th>\n",
       "      <th>QG</th>\n",
       "    </tr>\n",
       "  </thead>\n",
       "  <tbody>\n",
       "    <tr>\n",
       "      <td>0</td>\n",
       "      <td>10</td>\n",
       "      <td>ESS</td>\n",
       "      <td></td>\n",
       "      <td>1.2</td>\n",
       "      <td>0</td>\n",
       "    </tr>\n",
       "    <tr>\n",
       "      <td>1</td>\n",
       "      <td>18</td>\n",
       "      <td>PV</td>\n",
       "      <td></td>\n",
       "      <td>0.9</td>\n",
       "      <td>0</td>\n",
       "    </tr>\n",
       "    <tr>\n",
       "      <td>2</td>\n",
       "      <td>19</td>\n",
       "      <td>PV</td>\n",
       "      <td></td>\n",
       "      <td>0.6</td>\n",
       "      <td>0</td>\n",
       "    </tr>\n",
       "    <tr>\n",
       "      <td>3</td>\n",
       "      <td>22</td>\n",
       "      <td>ESS</td>\n",
       "      <td>HYOSUNG</td>\n",
       "      <td>1.5</td>\n",
       "      <td>0</td>\n",
       "    </tr>\n",
       "    <tr>\n",
       "      <td>4</td>\n",
       "      <td>25</td>\n",
       "      <td>PV</td>\n",
       "      <td></td>\n",
       "      <td>0.9</td>\n",
       "      <td>0</td>\n",
       "    </tr>\n",
       "    <tr>\n",
       "      <td>5</td>\n",
       "      <td>27</td>\n",
       "      <td>ESS</td>\n",
       "      <td></td>\n",
       "      <td>0.6</td>\n",
       "      <td>0</td>\n",
       "    </tr>\n",
       "    <tr>\n",
       "      <td>6</td>\n",
       "      <td>31</td>\n",
       "      <td>PV</td>\n",
       "      <td></td>\n",
       "      <td>0.9</td>\n",
       "      <td>0</td>\n",
       "    </tr>\n",
       "    <tr>\n",
       "      <td>7</td>\n",
       "      <td>33</td>\n",
       "      <td>PV</td>\n",
       "      <td></td>\n",
       "      <td>1.2</td>\n",
       "      <td>0</td>\n",
       "    </tr>\n",
       "  </tbody>\n",
       "</table>\n",
       "</div>"
      ],
      "text/plain": [
       "  BUS TYPE  COMPANY   PG QG\n",
       "0  10  ESS           1.2  0\n",
       "1  18   PV           0.9  0\n",
       "2  19   PV           0.6  0\n",
       "3  22  ESS  HYOSUNG  1.5  0\n",
       "4  25   PV           0.9  0\n",
       "5  27  ESS           0.6  0\n",
       "6  31   PV           0.9  0\n",
       "7  33   PV           1.2  0"
      ]
     },
     "execution_count": 23,
     "metadata": {},
     "output_type": "execute_result"
    }
   ],
   "source": [
    "dermatrix"
   ]
  },
  {
   "cell_type": "code",
   "execution_count": 21,
   "metadata": {},
   "outputs": [
    {
     "data": {
      "text/plain": [
       "{9: <gurobi.Var PG (value 1.3969790360875045)>,\n",
       " 17: <gurobi.Var PG (value 1.0480985823085056)>,\n",
       " 18: <gurobi.Var PG (value 0.6985442778027625)>,\n",
       " 21: <gurobi.Var PG (value 1.7473292173863053)>,\n",
       " 24: <gurobi.Var PG (value 1.0473931840116832)>,\n",
       " 26: <gurobi.Var PG (value 0.6972955901530667)>,\n",
       " 30: <gurobi.Var PG (value 1.0465135737761246)>,\n",
       " 32: <gurobi.Var PG (value 1.3972080368172344)>}"
      ]
     },
     "execution_count": 21,
     "metadata": {},
     "output_type": "execute_result"
    }
   ],
   "source": [
    "PG"
   ]
  },
  {
   "cell_type": "code",
   "execution_count": null,
   "metadata": {},
   "outputs": [],
   "source": []
  }
 ],
 "metadata": {
  "kernelspec": {
   "display_name": "Python 3",
   "language": "python",
   "name": "python3"
  },
  "language_info": {
   "codemirror_mode": {
    "name": "ipython",
    "version": 3
   },
   "file_extension": ".py",
   "mimetype": "text/x-python",
   "name": "python",
   "nbconvert_exporter": "python",
   "pygments_lexer": "ipython3",
   "version": "3.6.9"
  }
 },
 "nbformat": 4,
 "nbformat_minor": 2
}
